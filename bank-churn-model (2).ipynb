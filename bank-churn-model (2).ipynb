{
 "cells": [
  {
   "cell_type": "markdown",
   "id": "57f603e8",
   "metadata": {
    "papermill": {
     "duration": 0.017907,
     "end_time": "2023-05-03T15:30:09.331398",
     "exception": false,
     "start_time": "2023-05-03T15:30:09.313491",
     "status": "completed"
    },
    "tags": []
   },
   "source": [
    "**Title: Bank Customer Churn Model**"
   ]
  },
  {
   "cell_type": "markdown",
   "id": "0956e000",
   "metadata": {
    "papermill": {
     "duration": 0.018591,
     "end_time": "2023-05-03T15:30:09.366734",
     "exception": false,
     "start_time": "2023-05-03T15:30:09.348143",
     "status": "completed"
    },
    "tags": []
   },
   "source": [
    "Objectives:\n",
    "\n",
    "1) Data Encoding\\\n",
    "2) Feature Scaling\\\n",
    "3) Handling Imbalance Data\\\n",
    "   a) Random Under Sampling\\\n",
    "   b) Random Over Sampling\\\n",
    "4) Support Vector Machine Classifier\\\n",
    "5) Grid Search For Hyperparameter Tunning\n"
   ]
  },
  {
   "cell_type": "markdown",
   "id": "96aef48c",
   "metadata": {
    "papermill": {
     "duration": 0.016271,
     "end_time": "2023-05-03T15:30:09.399588",
     "exception": false,
     "start_time": "2023-05-03T15:30:09.383317",
     "status": "completed"
    },
    "tags": []
   },
   "source": [
    "**Import Libraries**"
   ]
  },
  {
   "cell_type": "code",
   "execution_count": 1,
   "id": "6bc20be3",
   "metadata": {
    "execution": {
     "iopub.execute_input": "2023-05-03T15:30:09.434954Z",
     "iopub.status.busy": "2023-05-03T15:30:09.434092Z",
     "iopub.status.idle": "2023-05-03T15:30:10.684729Z",
     "shell.execute_reply": "2023-05-03T15:30:10.683600Z"
    },
    "papermill": {
     "duration": 1.271527,
     "end_time": "2023-05-03T15:30:10.687506",
     "exception": false,
     "start_time": "2023-05-03T15:30:09.415979",
     "status": "completed"
    },
    "tags": []
   },
   "outputs": [],
   "source": [
    "import pandas as pd\n",
    "import numpy as np\n",
    "import matplotlib.pyplot as plt\n",
    "import seaborn as sns"
   ]
  },
  {
   "cell_type": "markdown",
   "id": "3a63af96",
   "metadata": {
    "execution": {
     "iopub.execute_input": "2023-04-21T17:45:40.259972Z",
     "iopub.status.busy": "2023-04-21T17:45:40.258608Z",
     "iopub.status.idle": "2023-04-21T17:45:40.266729Z",
     "shell.execute_reply": "2023-04-21T17:45:40.265204Z",
     "shell.execute_reply.started": "2023-04-21T17:45:40.259889Z"
    },
    "papermill": {
     "duration": 0.016258,
     "end_time": "2023-05-03T15:30:10.720578",
     "exception": false,
     "start_time": "2023-05-03T15:30:10.704320",
     "status": "completed"
    },
    "tags": []
   },
   "source": [
    "**Import Data**"
   ]
  },
  {
   "cell_type": "code",
   "execution_count": 2,
   "id": "5f5f9647",
   "metadata": {
    "execution": {
     "iopub.execute_input": "2023-05-03T15:30:10.756643Z",
     "iopub.status.busy": "2023-05-03T15:30:10.755986Z",
     "iopub.status.idle": "2023-05-03T15:30:11.030408Z",
     "shell.execute_reply": "2023-05-03T15:30:11.028986Z"
    },
    "papermill": {
     "duration": 0.296353,
     "end_time": "2023-05-03T15:30:11.033527",
     "exception": false,
     "start_time": "2023-05-03T15:30:10.737174",
     "status": "completed"
    },
    "tags": []
   },
   "outputs": [],
   "source": [
    "df=pd.read_csv('https://raw.githubusercontent.com/YBI-Foundation/Dataset/main/Bank%20Churn%20Modelling.csv')"
   ]
  },
  {
   "cell_type": "markdown",
   "id": "d792818c",
   "metadata": {
    "papermill": {
     "duration": 0.017165,
     "end_time": "2023-05-03T15:30:11.067241",
     "exception": false,
     "start_time": "2023-05-03T15:30:11.050076",
     "status": "completed"
    },
    "tags": []
   },
   "source": [
    "**Describe Data**"
   ]
  },
  {
   "cell_type": "code",
   "execution_count": 3,
   "id": "cd3ec683",
   "metadata": {
    "execution": {
     "iopub.execute_input": "2023-05-03T15:30:11.102979Z",
     "iopub.status.busy": "2023-05-03T15:30:11.102499Z",
     "iopub.status.idle": "2023-05-03T15:30:11.135558Z",
     "shell.execute_reply": "2023-05-03T15:30:11.134178Z"
    },
    "papermill": {
     "duration": 0.054019,
     "end_time": "2023-05-03T15:30:11.138304",
     "exception": false,
     "start_time": "2023-05-03T15:30:11.084285",
     "status": "completed"
    },
    "tags": []
   },
   "outputs": [
    {
     "data": {
      "text/html": [
       "<div>\n",
       "<style scoped>\n",
       "    .dataframe tbody tr th:only-of-type {\n",
       "        vertical-align: middle;\n",
       "    }\n",
       "\n",
       "    .dataframe tbody tr th {\n",
       "        vertical-align: top;\n",
       "    }\n",
       "\n",
       "    .dataframe thead th {\n",
       "        text-align: right;\n",
       "    }\n",
       "</style>\n",
       "<table border=\"1\" class=\"dataframe\">\n",
       "  <thead>\n",
       "    <tr style=\"text-align: right;\">\n",
       "      <th></th>\n",
       "      <th>CustomerId</th>\n",
       "      <th>Surname</th>\n",
       "      <th>CreditScore</th>\n",
       "      <th>Geography</th>\n",
       "      <th>Gender</th>\n",
       "      <th>Age</th>\n",
       "      <th>Tenure</th>\n",
       "      <th>Balance</th>\n",
       "      <th>Num Of Products</th>\n",
       "      <th>Has Credit Card</th>\n",
       "      <th>Is Active Member</th>\n",
       "      <th>Estimated Salary</th>\n",
       "      <th>Churn</th>\n",
       "    </tr>\n",
       "  </thead>\n",
       "  <tbody>\n",
       "    <tr>\n",
       "      <th>0</th>\n",
       "      <td>15634602</td>\n",
       "      <td>Hargrave</td>\n",
       "      <td>619</td>\n",
       "      <td>France</td>\n",
       "      <td>Female</td>\n",
       "      <td>42</td>\n",
       "      <td>2</td>\n",
       "      <td>0.00</td>\n",
       "      <td>1</td>\n",
       "      <td>1</td>\n",
       "      <td>1</td>\n",
       "      <td>101348.88</td>\n",
       "      <td>1</td>\n",
       "    </tr>\n",
       "    <tr>\n",
       "      <th>1</th>\n",
       "      <td>15647311</td>\n",
       "      <td>Hill</td>\n",
       "      <td>608</td>\n",
       "      <td>Spain</td>\n",
       "      <td>Female</td>\n",
       "      <td>41</td>\n",
       "      <td>1</td>\n",
       "      <td>83807.86</td>\n",
       "      <td>1</td>\n",
       "      <td>0</td>\n",
       "      <td>1</td>\n",
       "      <td>112542.58</td>\n",
       "      <td>0</td>\n",
       "    </tr>\n",
       "    <tr>\n",
       "      <th>2</th>\n",
       "      <td>15619304</td>\n",
       "      <td>Onio</td>\n",
       "      <td>502</td>\n",
       "      <td>France</td>\n",
       "      <td>Female</td>\n",
       "      <td>42</td>\n",
       "      <td>8</td>\n",
       "      <td>159660.80</td>\n",
       "      <td>3</td>\n",
       "      <td>1</td>\n",
       "      <td>0</td>\n",
       "      <td>113931.57</td>\n",
       "      <td>1</td>\n",
       "    </tr>\n",
       "    <tr>\n",
       "      <th>3</th>\n",
       "      <td>15701354</td>\n",
       "      <td>Boni</td>\n",
       "      <td>699</td>\n",
       "      <td>France</td>\n",
       "      <td>Female</td>\n",
       "      <td>39</td>\n",
       "      <td>1</td>\n",
       "      <td>0.00</td>\n",
       "      <td>2</td>\n",
       "      <td>0</td>\n",
       "      <td>0</td>\n",
       "      <td>93826.63</td>\n",
       "      <td>0</td>\n",
       "    </tr>\n",
       "    <tr>\n",
       "      <th>4</th>\n",
       "      <td>15737888</td>\n",
       "      <td>Mitchell</td>\n",
       "      <td>850</td>\n",
       "      <td>Spain</td>\n",
       "      <td>Female</td>\n",
       "      <td>43</td>\n",
       "      <td>2</td>\n",
       "      <td>125510.82</td>\n",
       "      <td>1</td>\n",
       "      <td>1</td>\n",
       "      <td>1</td>\n",
       "      <td>79084.10</td>\n",
       "      <td>0</td>\n",
       "    </tr>\n",
       "  </tbody>\n",
       "</table>\n",
       "</div>"
      ],
      "text/plain": [
       "   CustomerId   Surname  CreditScore Geography  Gender  Age  Tenure  \\\n",
       "0    15634602  Hargrave          619    France  Female   42       2   \n",
       "1    15647311      Hill          608     Spain  Female   41       1   \n",
       "2    15619304      Onio          502    France  Female   42       8   \n",
       "3    15701354      Boni          699    France  Female   39       1   \n",
       "4    15737888  Mitchell          850     Spain  Female   43       2   \n",
       "\n",
       "     Balance  Num Of Products  Has Credit Card  Is Active Member  \\\n",
       "0       0.00                1                1                 1   \n",
       "1   83807.86                1                0                 1   \n",
       "2  159660.80                3                1                 0   \n",
       "3       0.00                2                0                 0   \n",
       "4  125510.82                1                1                 1   \n",
       "\n",
       "   Estimated Salary  Churn  \n",
       "0         101348.88      1  \n",
       "1         112542.58      0  \n",
       "2         113931.57      1  \n",
       "3          93826.63      0  \n",
       "4          79084.10      0  "
      ]
     },
     "execution_count": 3,
     "metadata": {},
     "output_type": "execute_result"
    }
   ],
   "source": [
    "df.head()"
   ]
  },
  {
   "cell_type": "code",
   "execution_count": 4,
   "id": "adcc85fa",
   "metadata": {
    "execution": {
     "iopub.execute_input": "2023-05-03T15:30:11.173850Z",
     "iopub.status.busy": "2023-05-03T15:30:11.173453Z",
     "iopub.status.idle": "2023-05-03T15:30:11.199741Z",
     "shell.execute_reply": "2023-05-03T15:30:11.198228Z"
    },
    "papermill": {
     "duration": 0.047104,
     "end_time": "2023-05-03T15:30:11.202368",
     "exception": false,
     "start_time": "2023-05-03T15:30:11.155264",
     "status": "completed"
    },
    "tags": []
   },
   "outputs": [
    {
     "name": "stdout",
     "output_type": "stream",
     "text": [
      "<class 'pandas.core.frame.DataFrame'>\n",
      "RangeIndex: 10000 entries, 0 to 9999\n",
      "Data columns (total 13 columns):\n",
      " #   Column            Non-Null Count  Dtype  \n",
      "---  ------            --------------  -----  \n",
      " 0   CustomerId        10000 non-null  int64  \n",
      " 1   Surname           10000 non-null  object \n",
      " 2   CreditScore       10000 non-null  int64  \n",
      " 3   Geography         10000 non-null  object \n",
      " 4   Gender            10000 non-null  object \n",
      " 5   Age               10000 non-null  int64  \n",
      " 6   Tenure            10000 non-null  int64  \n",
      " 7   Balance           10000 non-null  float64\n",
      " 8   Num Of Products   10000 non-null  int64  \n",
      " 9   Has Credit Card   10000 non-null  int64  \n",
      " 10  Is Active Member  10000 non-null  int64  \n",
      " 11  Estimated Salary  10000 non-null  float64\n",
      " 12  Churn             10000 non-null  int64  \n",
      "dtypes: float64(2), int64(8), object(3)\n",
      "memory usage: 1015.8+ KB\n"
     ]
    }
   ],
   "source": [
    "df.info()"
   ]
  },
  {
   "cell_type": "markdown",
   "id": "1112194c",
   "metadata": {
    "papermill": {
     "duration": 0.016406,
     "end_time": "2023-05-03T15:30:11.235633",
     "exception": false,
     "start_time": "2023-05-03T15:30:11.219227",
     "status": "completed"
    },
    "tags": []
   },
   "source": [
    "Data Preprocessing\n",
    "1) Data Visualization"
   ]
  },
  {
   "cell_type": "code",
   "execution_count": 5,
   "id": "605f5f5d",
   "metadata": {
    "execution": {
     "iopub.execute_input": "2023-05-03T15:30:11.271078Z",
     "iopub.status.busy": "2023-05-03T15:30:11.270608Z",
     "iopub.status.idle": "2023-05-03T15:30:11.282620Z",
     "shell.execute_reply": "2023-05-03T15:30:11.281335Z"
    },
    "papermill": {
     "duration": 0.032715,
     "end_time": "2023-05-03T15:30:11.285004",
     "exception": false,
     "start_time": "2023-05-03T15:30:11.252289",
     "status": "completed"
    },
    "tags": []
   },
   "outputs": [
    {
     "data": {
      "text/plain": [
       "0"
      ]
     },
     "execution_count": 5,
     "metadata": {},
     "output_type": "execute_result"
    }
   ],
   "source": [
    "df.duplicated('CustomerId').sum()"
   ]
  },
  {
   "cell_type": "code",
   "execution_count": 6,
   "id": "97e80b7d",
   "metadata": {
    "execution": {
     "iopub.execute_input": "2023-05-03T15:30:11.321148Z",
     "iopub.status.busy": "2023-05-03T15:30:11.320687Z",
     "iopub.status.idle": "2023-05-03T15:30:11.327507Z",
     "shell.execute_reply": "2023-05-03T15:30:11.326260Z"
    },
    "papermill": {
     "duration": 0.027632,
     "end_time": "2023-05-03T15:30:11.329977",
     "exception": false,
     "start_time": "2023-05-03T15:30:11.302345",
     "status": "completed"
    },
    "tags": []
   },
   "outputs": [],
   "source": [
    "df=df.set_index('CustomerId')"
   ]
  },
  {
   "cell_type": "code",
   "execution_count": 7,
   "id": "e1a66600",
   "metadata": {
    "execution": {
     "iopub.execute_input": "2023-05-03T15:30:11.365757Z",
     "iopub.status.busy": "2023-05-03T15:30:11.365314Z",
     "iopub.status.idle": "2023-05-03T15:30:11.382779Z",
     "shell.execute_reply": "2023-05-03T15:30:11.381183Z"
    },
    "papermill": {
     "duration": 0.03861,
     "end_time": "2023-05-03T15:30:11.385469",
     "exception": false,
     "start_time": "2023-05-03T15:30:11.346859",
     "status": "completed"
    },
    "tags": []
   },
   "outputs": [
    {
     "name": "stdout",
     "output_type": "stream",
     "text": [
      "<class 'pandas.core.frame.DataFrame'>\n",
      "Int64Index: 10000 entries, 15634602 to 15628319\n",
      "Data columns (total 12 columns):\n",
      " #   Column            Non-Null Count  Dtype  \n",
      "---  ------            --------------  -----  \n",
      " 0   Surname           10000 non-null  object \n",
      " 1   CreditScore       10000 non-null  int64  \n",
      " 2   Geography         10000 non-null  object \n",
      " 3   Gender            10000 non-null  object \n",
      " 4   Age               10000 non-null  int64  \n",
      " 5   Tenure            10000 non-null  int64  \n",
      " 6   Balance           10000 non-null  float64\n",
      " 7   Num Of Products   10000 non-null  int64  \n",
      " 8   Has Credit Card   10000 non-null  int64  \n",
      " 9   Is Active Member  10000 non-null  int64  \n",
      " 10  Estimated Salary  10000 non-null  float64\n",
      " 11  Churn             10000 non-null  int64  \n",
      "dtypes: float64(2), int64(7), object(3)\n",
      "memory usage: 1015.6+ KB\n"
     ]
    }
   ],
   "source": [
    "df.info()"
   ]
  },
  {
   "cell_type": "markdown",
   "id": "af8c2dc4",
   "metadata": {
    "papermill": {
     "duration": 0.016558,
     "end_time": "2023-05-03T15:30:11.419051",
     "exception": false,
     "start_time": "2023-05-03T15:30:11.402493",
     "status": "completed"
    },
    "tags": []
   },
   "source": [
    "**Data Encoding**"
   ]
  },
  {
   "cell_type": "code",
   "execution_count": 8,
   "id": "46aa2f24",
   "metadata": {
    "execution": {
     "iopub.execute_input": "2023-05-03T15:30:11.456359Z",
     "iopub.status.busy": "2023-05-03T15:30:11.455242Z",
     "iopub.status.idle": "2023-05-03T15:30:11.465638Z",
     "shell.execute_reply": "2023-05-03T15:30:11.464289Z"
    },
    "papermill": {
     "duration": 0.032232,
     "end_time": "2023-05-03T15:30:11.468191",
     "exception": false,
     "start_time": "2023-05-03T15:30:11.435959",
     "status": "completed"
    },
    "tags": []
   },
   "outputs": [
    {
     "data": {
      "text/plain": [
       "France     5014\n",
       "Germany    2509\n",
       "Spain      2477\n",
       "Name: Geography, dtype: int64"
      ]
     },
     "execution_count": 8,
     "metadata": {},
     "output_type": "execute_result"
    }
   ],
   "source": [
    "df['Geography'].value_counts()"
   ]
  },
  {
   "cell_type": "code",
   "execution_count": 9,
   "id": "fe759e1f",
   "metadata": {
    "execution": {
     "iopub.execute_input": "2023-05-03T15:30:11.514103Z",
     "iopub.status.busy": "2023-05-03T15:30:11.511939Z",
     "iopub.status.idle": "2023-05-03T15:30:11.528079Z",
     "shell.execute_reply": "2023-05-03T15:30:11.526283Z"
    },
    "papermill": {
     "duration": 0.043311,
     "end_time": "2023-05-03T15:30:11.531382",
     "exception": false,
     "start_time": "2023-05-03T15:30:11.488071",
     "status": "completed"
    },
    "tags": []
   },
   "outputs": [],
   "source": [
    "df.replace({'Geography':{'France':2,'Germany':1,'Spain':0}},inplace=True)"
   ]
  },
  {
   "cell_type": "code",
   "execution_count": 10,
   "id": "ef8f0795",
   "metadata": {
    "execution": {
     "iopub.execute_input": "2023-05-03T15:30:11.582634Z",
     "iopub.status.busy": "2023-05-03T15:30:11.581310Z",
     "iopub.status.idle": "2023-05-03T15:30:11.593020Z",
     "shell.execute_reply": "2023-05-03T15:30:11.591887Z"
    },
    "papermill": {
     "duration": 0.037629,
     "end_time": "2023-05-03T15:30:11.595293",
     "exception": false,
     "start_time": "2023-05-03T15:30:11.557664",
     "status": "completed"
    },
    "tags": []
   },
   "outputs": [
    {
     "data": {
      "text/plain": [
       "Male      5457\n",
       "Female    4543\n",
       "Name: Gender, dtype: int64"
      ]
     },
     "execution_count": 10,
     "metadata": {},
     "output_type": "execute_result"
    }
   ],
   "source": [
    "df['Gender'].value_counts()"
   ]
  },
  {
   "cell_type": "code",
   "execution_count": 11,
   "id": "ffbee6c9",
   "metadata": {
    "execution": {
     "iopub.execute_input": "2023-05-03T15:30:11.632482Z",
     "iopub.status.busy": "2023-05-03T15:30:11.631438Z",
     "iopub.status.idle": "2023-05-03T15:30:11.649005Z",
     "shell.execute_reply": "2023-05-03T15:30:11.647648Z"
    },
    "papermill": {
     "duration": 0.039277,
     "end_time": "2023-05-03T15:30:11.651764",
     "exception": false,
     "start_time": "2023-05-03T15:30:11.612487",
     "status": "completed"
    },
    "tags": []
   },
   "outputs": [],
   "source": [
    "df.replace({'Gender':{'Male':1,'Female':0}},inplace=True)"
   ]
  },
  {
   "cell_type": "code",
   "execution_count": 12,
   "id": "c8b0e92e",
   "metadata": {
    "execution": {
     "iopub.execute_input": "2023-05-03T15:30:11.694979Z",
     "iopub.status.busy": "2023-05-03T15:30:11.694025Z",
     "iopub.status.idle": "2023-05-03T15:30:11.702351Z",
     "shell.execute_reply": "2023-05-03T15:30:11.701378Z"
    },
    "papermill": {
     "duration": 0.036014,
     "end_time": "2023-05-03T15:30:11.705243",
     "exception": false,
     "start_time": "2023-05-03T15:30:11.669229",
     "status": "completed"
    },
    "tags": []
   },
   "outputs": [
    {
     "data": {
      "text/plain": [
       "1    5084\n",
       "2    4590\n",
       "3     266\n",
       "4      60\n",
       "Name: Num Of Products, dtype: int64"
      ]
     },
     "execution_count": 12,
     "metadata": {},
     "output_type": "execute_result"
    }
   ],
   "source": [
    "df['Num Of Products'].value_counts()"
   ]
  },
  {
   "cell_type": "code",
   "execution_count": 13,
   "id": "7438f101",
   "metadata": {
    "execution": {
     "iopub.execute_input": "2023-05-03T15:30:11.755616Z",
     "iopub.status.busy": "2023-05-03T15:30:11.754582Z",
     "iopub.status.idle": "2023-05-03T15:30:11.763886Z",
     "shell.execute_reply": "2023-05-03T15:30:11.762565Z"
    },
    "papermill": {
     "duration": 0.034682,
     "end_time": "2023-05-03T15:30:11.766596",
     "exception": false,
     "start_time": "2023-05-03T15:30:11.731914",
     "status": "completed"
    },
    "tags": []
   },
   "outputs": [],
   "source": [
    "df.replace({'Num Of Products':{1:0,2:1,3:1,4:1}},inplace=True)"
   ]
  },
  {
   "cell_type": "code",
   "execution_count": 14,
   "id": "b9b10fdb",
   "metadata": {
    "execution": {
     "iopub.execute_input": "2023-05-03T15:30:11.805935Z",
     "iopub.status.busy": "2023-05-03T15:30:11.804913Z",
     "iopub.status.idle": "2023-05-03T15:30:11.815314Z",
     "shell.execute_reply": "2023-05-03T15:30:11.814112Z"
    },
    "papermill": {
     "duration": 0.033397,
     "end_time": "2023-05-03T15:30:11.817827",
     "exception": false,
     "start_time": "2023-05-03T15:30:11.784430",
     "status": "completed"
    },
    "tags": []
   },
   "outputs": [
    {
     "data": {
      "text/plain": [
       "1    5151\n",
       "0    4849\n",
       "Name: Is Active Member, dtype: int64"
      ]
     },
     "execution_count": 14,
     "metadata": {},
     "output_type": "execute_result"
    }
   ],
   "source": [
    "df['Is Active Member'].value_counts()"
   ]
  },
  {
   "cell_type": "code",
   "execution_count": 15,
   "id": "1ccc7eab",
   "metadata": {
    "execution": {
     "iopub.execute_input": "2023-05-03T15:30:11.856197Z",
     "iopub.status.busy": "2023-05-03T15:30:11.855152Z",
     "iopub.status.idle": "2023-05-03T15:30:11.865839Z",
     "shell.execute_reply": "2023-05-03T15:30:11.864688Z"
    },
    "papermill": {
     "duration": 0.033319,
     "end_time": "2023-05-03T15:30:11.868855",
     "exception": false,
     "start_time": "2023-05-03T15:30:11.835536",
     "status": "completed"
    },
    "tags": []
   },
   "outputs": [
    {
     "data": {
      "text/plain": [
       "1    7055\n",
       "0    2945\n",
       "Name: Has Credit Card, dtype: int64"
      ]
     },
     "execution_count": 15,
     "metadata": {},
     "output_type": "execute_result"
    }
   ],
   "source": [
    "df['Has Credit Card'].value_counts()"
   ]
  },
  {
   "cell_type": "markdown",
   "id": "57fd43ca",
   "metadata": {
    "papermill": {
     "duration": 0.017429,
     "end_time": "2023-05-03T15:30:11.908118",
     "exception": false,
     "start_time": "2023-05-03T15:30:11.890689",
     "status": "completed"
    },
    "tags": []
   },
   "source": [
    "Now, we find the customers who have zero balance in their bank accounts as they would be most likely to leave the bank."
   ]
  },
  {
   "cell_type": "markdown",
   "id": "f8a7ffe5",
   "metadata": {
    "papermill": {
     "duration": 0.020489,
     "end_time": "2023-05-03T15:30:11.950402",
     "exception": false,
     "start_time": "2023-05-03T15:30:11.929913",
     "status": "completed"
    },
    "tags": []
   },
   "source": [
    "**Data Preprocessing**"
   ]
  },
  {
   "cell_type": "code",
   "execution_count": 16,
   "id": "36e2dd3d",
   "metadata": {
    "execution": {
     "iopub.execute_input": "2023-05-03T15:30:12.001110Z",
     "iopub.status.busy": "2023-05-03T15:30:11.999648Z",
     "iopub.status.idle": "2023-05-03T15:30:12.011836Z",
     "shell.execute_reply": "2023-05-03T15:30:12.010707Z"
    },
    "papermill": {
     "duration": 0.037215,
     "end_time": "2023-05-03T15:30:12.014317",
     "exception": false,
     "start_time": "2023-05-03T15:30:11.977102",
     "status": "completed"
    },
    "tags": []
   },
   "outputs": [
    {
     "data": {
      "text/plain": [
       "0    3117\n",
       "1     500\n",
       "Name: Churn, dtype: int64"
      ]
     },
     "execution_count": 16,
     "metadata": {},
     "output_type": "execute_result"
    }
   ],
   "source": [
    "df.loc[(df['Balance']==0),'Churn'].value_counts()"
   ]
  },
  {
   "cell_type": "code",
   "execution_count": 17,
   "id": "34c2b292",
   "metadata": {
    "execution": {
     "iopub.execute_input": "2023-05-03T15:30:12.051766Z",
     "iopub.status.busy": "2023-05-03T15:30:12.051365Z",
     "iopub.status.idle": "2023-05-03T15:30:12.421777Z",
     "shell.execute_reply": "2023-05-03T15:30:12.420459Z"
    },
    "papermill": {
     "duration": 0.393028,
     "end_time": "2023-05-03T15:30:12.425103",
     "exception": false,
     "start_time": "2023-05-03T15:30:12.032075",
     "status": "completed"
    },
    "tags": []
   },
   "outputs": [
    {
     "data": {
      "text/plain": [
       "<AxesSubplot:>"
      ]
     },
     "execution_count": 17,
     "metadata": {},
     "output_type": "execute_result"
    },
    {
     "data": {
      "image/png": "[encoded data removed]",
      "text/plain": [
       "<Figure size 640x480 with 1 Axes>"
      ]
     },
     "metadata": {},
     "output_type": "display_data"
    }
   ],
   "source": [
    "df['Balance'].hist()"
   ]
  },
  {
   "cell_type": "code",
   "execution_count": 18,
   "id": "95901ab3",
   "metadata": {
    "execution": {
     "iopub.execute_input": "2023-05-03T15:30:12.470766Z",
     "iopub.status.busy": "2023-05-03T15:30:12.469909Z",
     "iopub.status.idle": "2023-05-03T15:30:12.722127Z",
     "shell.execute_reply": "2023-05-03T15:30:12.720874Z"
    },
    "papermill": {
     "duration": 0.275059,
     "end_time": "2023-05-03T15:30:12.724688",
     "exception": false,
     "start_time": "2023-05-03T15:30:12.449629",
     "status": "completed"
    },
    "tags": []
   },
   "outputs": [
    {
     "data": {
      "text/plain": [
       "<AxesSubplot:>"
      ]
     },
     "execution_count": 18,
     "metadata": {},
     "output_type": "execute_result"
    },
    {
     "data": {
      "image/png": "[encoded data removed]",
      "text/plain": [
       "<Figure size 640x480 with 1 Axes>"
      ]
     },
     "metadata": {},
     "output_type": "display_data"
    }
   ],
   "source": [
    "df['Zero Balance']=np.where(df['Balance']>0,1,0)\n",
    "df['Zero Balance'].hist()"
   ]
  },
  {
   "cell_type": "code",
   "execution_count": 19,
   "id": "6e679bbc",
   "metadata": {
    "execution": {
     "iopub.execute_input": "2023-05-03T15:30:12.764548Z",
     "iopub.status.busy": "2023-05-03T15:30:12.763302Z",
     "iopub.status.idle": "2023-05-03T15:30:12.787343Z",
     "shell.execute_reply": "2023-05-03T15:30:12.786082Z"
    },
    "papermill": {
     "duration": 0.04666,
     "end_time": "2023-05-03T15:30:12.790020",
     "exception": false,
     "start_time": "2023-05-03T15:30:12.743360",
     "status": "completed"
    },
    "tags": []
   },
   "outputs": [
    {
     "data": {
      "text/html": [
       "<div>\n",
       "<style scoped>\n",
       "    .dataframe tbody tr th:only-of-type {\n",
       "        vertical-align: middle;\n",
       "    }\n",
       "\n",
       "    .dataframe tbody tr th {\n",
       "        vertical-align: top;\n",
       "    }\n",
       "\n",
       "    .dataframe thead th {\n",
       "        text-align: right;\n",
       "    }\n",
       "</style>\n",
       "<table border=\"1\" class=\"dataframe\">\n",
       "  <thead>\n",
       "    <tr style=\"text-align: right;\">\n",
       "      <th></th>\n",
       "      <th></th>\n",
       "      <th>Surname</th>\n",
       "      <th>CreditScore</th>\n",
       "      <th>Gender</th>\n",
       "      <th>Age</th>\n",
       "      <th>Tenure</th>\n",
       "      <th>Balance</th>\n",
       "      <th>Num Of Products</th>\n",
       "      <th>Has Credit Card</th>\n",
       "      <th>Is Active Member</th>\n",
       "      <th>Estimated Salary</th>\n",
       "      <th>Zero Balance</th>\n",
       "    </tr>\n",
       "    <tr>\n",
       "      <th>Churn</th>\n",
       "      <th>Geography</th>\n",
       "      <th></th>\n",
       "      <th></th>\n",
       "      <th></th>\n",
       "      <th></th>\n",
       "      <th></th>\n",
       "      <th></th>\n",
       "      <th></th>\n",
       "      <th></th>\n",
       "      <th></th>\n",
       "      <th></th>\n",
       "      <th></th>\n",
       "    </tr>\n",
       "  </thead>\n",
       "  <tbody>\n",
       "    <tr>\n",
       "      <th rowspan=\"3\" valign=\"top\">0</th>\n",
       "      <th>0</th>\n",
       "      <td>2064</td>\n",
       "      <td>2064</td>\n",
       "      <td>2064</td>\n",
       "      <td>2064</td>\n",
       "      <td>2064</td>\n",
       "      <td>2064</td>\n",
       "      <td>2064</td>\n",
       "      <td>2064</td>\n",
       "      <td>2064</td>\n",
       "      <td>2064</td>\n",
       "      <td>2064</td>\n",
       "    </tr>\n",
       "    <tr>\n",
       "      <th>1</th>\n",
       "      <td>1695</td>\n",
       "      <td>1695</td>\n",
       "      <td>1695</td>\n",
       "      <td>1695</td>\n",
       "      <td>1695</td>\n",
       "      <td>1695</td>\n",
       "      <td>1695</td>\n",
       "      <td>1695</td>\n",
       "      <td>1695</td>\n",
       "      <td>1695</td>\n",
       "      <td>1695</td>\n",
       "    </tr>\n",
       "    <tr>\n",
       "      <th>2</th>\n",
       "      <td>4204</td>\n",
       "      <td>4204</td>\n",
       "      <td>4204</td>\n",
       "      <td>4204</td>\n",
       "      <td>4204</td>\n",
       "      <td>4204</td>\n",
       "      <td>4204</td>\n",
       "      <td>4204</td>\n",
       "      <td>4204</td>\n",
       "      <td>4204</td>\n",
       "      <td>4204</td>\n",
       "    </tr>\n",
       "    <tr>\n",
       "      <th rowspan=\"3\" valign=\"top\">1</th>\n",
       "      <th>0</th>\n",
       "      <td>413</td>\n",
       "      <td>413</td>\n",
       "      <td>413</td>\n",
       "      <td>413</td>\n",
       "      <td>413</td>\n",
       "      <td>413</td>\n",
       "      <td>413</td>\n",
       "      <td>413</td>\n",
       "      <td>413</td>\n",
       "      <td>413</td>\n",
       "      <td>413</td>\n",
       "    </tr>\n",
       "    <tr>\n",
       "      <th>1</th>\n",
       "      <td>814</td>\n",
       "      <td>814</td>\n",
       "      <td>814</td>\n",
       "      <td>814</td>\n",
       "      <td>814</td>\n",
       "      <td>814</td>\n",
       "      <td>814</td>\n",
       "      <td>814</td>\n",
       "      <td>814</td>\n",
       "      <td>814</td>\n",
       "      <td>814</td>\n",
       "    </tr>\n",
       "    <tr>\n",
       "      <th>2</th>\n",
       "      <td>810</td>\n",
       "      <td>810</td>\n",
       "      <td>810</td>\n",
       "      <td>810</td>\n",
       "      <td>810</td>\n",
       "      <td>810</td>\n",
       "      <td>810</td>\n",
       "      <td>810</td>\n",
       "      <td>810</td>\n",
       "      <td>810</td>\n",
       "      <td>810</td>\n",
       "    </tr>\n",
       "  </tbody>\n",
       "</table>\n",
       "</div>"
      ],
      "text/plain": [
       "                 Surname  CreditScore  Gender   Age  Tenure  Balance  \\\n",
       "Churn Geography                                                        \n",
       "0     0             2064         2064    2064  2064    2064     2064   \n",
       "      1             1695         1695    1695  1695    1695     1695   \n",
       "      2             4204         4204    4204  4204    4204     4204   \n",
       "1     0              413          413     413   413     413      413   \n",
       "      1              814          814     814   814     814      814   \n",
       "      2              810          810     810   810     810      810   \n",
       "\n",
       "                 Num Of Products  Has Credit Card  Is Active Member  \\\n",
       "Churn Geography                                                       \n",
       "0     0                     2064             2064              2064   \n",
       "      1                     1695             1695              1695   \n",
       "      2                     4204             4204              4204   \n",
       "1     0                      413              413               413   \n",
       "      1                      814              814               814   \n",
       "      2                      810              810               810   \n",
       "\n",
       "                 Estimated Salary  Zero Balance  \n",
       "Churn Geography                                  \n",
       "0     0                      2064          2064  \n",
       "      1                      1695          1695  \n",
       "      2                      4204          4204  \n",
       "1     0                       413           413  \n",
       "      1                       814           814  \n",
       "      2                       810           810  "
      ]
     },
     "execution_count": 19,
     "metadata": {},
     "output_type": "execute_result"
    }
   ],
   "source": [
    "df.groupby(['Churn','Geography']).count() "
   ]
  },
  {
   "cell_type": "markdown",
   "id": "dc6e7e75",
   "metadata": {
    "papermill": {
     "duration": 0.018311,
     "end_time": "2023-05-03T15:30:12.827402",
     "exception": false,
     "start_time": "2023-05-03T15:30:12.809091",
     "status": "completed"
    },
    "tags": []
   },
   "source": [
    "**Define Target Variable (y) and Feature Variables (X)**"
   ]
  },
  {
   "cell_type": "code",
   "execution_count": 20,
   "id": "c7df3217",
   "metadata": {
    "execution": {
     "iopub.execute_input": "2023-05-03T15:30:12.870202Z",
     "iopub.status.busy": "2023-05-03T15:30:12.868472Z",
     "iopub.status.idle": "2023-05-03T15:30:12.879053Z",
     "shell.execute_reply": "2023-05-03T15:30:12.877140Z"
    },
    "papermill": {
     "duration": 0.035497,
     "end_time": "2023-05-03T15:30:12.881649",
     "exception": false,
     "start_time": "2023-05-03T15:30:12.846152",
     "status": "completed"
    },
    "tags": []
   },
   "outputs": [
    {
     "data": {
      "text/plain": [
       "Index(['Surname', 'CreditScore', 'Geography', 'Gender', 'Age', 'Tenure',\n",
       "       'Balance', 'Num Of Products', 'Has Credit Card', 'Is Active Member',\n",
       "       'Estimated Salary', 'Churn', 'Zero Balance'],\n",
       "      dtype='object')"
      ]
     },
     "execution_count": 20,
     "metadata": {},
     "output_type": "execute_result"
    }
   ],
   "source": [
    "df.columns"
   ]
  },
  {
   "cell_type": "code",
   "execution_count": 21,
   "id": "020b4b04",
   "metadata": {
    "execution": {
     "iopub.execute_input": "2023-05-03T15:30:12.922756Z",
     "iopub.status.busy": "2023-05-03T15:30:12.922087Z",
     "iopub.status.idle": "2023-05-03T15:30:12.932343Z",
     "shell.execute_reply": "2023-05-03T15:30:12.931303Z"
    },
    "papermill": {
     "duration": 0.033391,
     "end_time": "2023-05-03T15:30:12.934556",
     "exception": false,
     "start_time": "2023-05-03T15:30:12.901165",
     "status": "completed"
    },
    "tags": []
   },
   "outputs": [
    {
     "data": {
      "text/plain": [
       "0    7963\n",
       "1    2037\n",
       "Name: Churn, dtype: int64"
      ]
     },
     "execution_count": 21,
     "metadata": {},
     "output_type": "execute_result"
    }
   ],
   "source": [
    "y=df['Churn']\n",
    "x=df.drop(['Surname','Churn'],axis=1)\n",
    "df['Churn'].value_counts()"
   ]
  },
  {
   "cell_type": "code",
   "execution_count": 22,
   "id": "a4ba9a5c",
   "metadata": {
    "execution": {
     "iopub.execute_input": "2023-05-03T15:30:12.974913Z",
     "iopub.status.busy": "2023-05-03T15:30:12.974232Z",
     "iopub.status.idle": "2023-05-03T15:30:13.187189Z",
     "shell.execute_reply": "2023-05-03T15:30:13.186142Z"
    },
    "papermill": {
     "duration": 0.236321,
     "end_time": "2023-05-03T15:30:13.189726",
     "exception": false,
     "start_time": "2023-05-03T15:30:12.953405",
     "status": "completed"
    },
    "tags": []
   },
   "outputs": [
    {
     "data": {
      "image/png": "[encoded data removed]",
      "text/plain": [
       "<Figure size 640x480 with 1 Axes>"
      ]
     },
     "metadata": {},
     "output_type": "display_data"
    }
   ],
   "source": [
    "sns.countplot(x='Churn',data=df);"
   ]
  },
  {
   "cell_type": "markdown",
   "id": "7a0097ba",
   "metadata": {
    "papermill": {
     "duration": 0.019623,
     "end_time": "2023-05-03T15:30:13.228853",
     "exception": false,
     "start_time": "2023-05-03T15:30:13.209230",
     "status": "completed"
    },
    "tags": []
   },
   "source": [
    "**Random Undersampling**"
   ]
  },
  {
   "cell_type": "code",
   "execution_count": 23,
   "id": "71339e50",
   "metadata": {
    "execution": {
     "iopub.execute_input": "2023-05-03T15:30:13.270039Z",
     "iopub.status.busy": "2023-05-03T15:30:13.269201Z",
     "iopub.status.idle": "2023-05-03T15:30:14.087509Z",
     "shell.execute_reply": "2023-05-03T15:30:14.086099Z"
    },
    "papermill": {
     "duration": 0.842194,
     "end_time": "2023-05-03T15:30:14.090414",
     "exception": false,
     "start_time": "2023-05-03T15:30:13.248220",
     "status": "completed"
    },
    "tags": []
   },
   "outputs": [
    {
     "data": {
      "text/plain": [
       "((4074, 11), (4074,), (10000, 11), (10000,))"
      ]
     },
     "execution_count": 23,
     "metadata": {},
     "output_type": "execute_result"
    }
   ],
   "source": [
    "from imblearn.under_sampling import RandomUnderSampler\n",
    "rus= RandomUnderSampler(random_state=100)\n",
    "x_rus,y_rus=rus.fit_resample(x,y)\n",
    "x_rus.shape,y_rus.shape,x.shape,y.shape"
   ]
  },
  {
   "cell_type": "code",
   "execution_count": 24,
   "id": "ac0ab81f",
   "metadata": {
    "execution": {
     "iopub.execute_input": "2023-05-03T15:30:14.131227Z",
     "iopub.status.busy": "2023-05-03T15:30:14.130764Z",
     "iopub.status.idle": "2023-05-03T15:30:14.140063Z",
     "shell.execute_reply": "2023-05-03T15:30:14.138843Z"
    },
    "papermill": {
     "duration": 0.032878,
     "end_time": "2023-05-03T15:30:14.142690",
     "exception": false,
     "start_time": "2023-05-03T15:30:14.109812",
     "status": "completed"
    },
    "tags": []
   },
   "outputs": [
    {
     "data": {
      "text/plain": [
       "0    7963\n",
       "1    2037\n",
       "Name: Churn, dtype: int64"
      ]
     },
     "execution_count": 24,
     "metadata": {},
     "output_type": "execute_result"
    }
   ],
   "source": [
    "y.value_counts()"
   ]
  },
  {
   "cell_type": "code",
   "execution_count": 25,
   "id": "efdb7abf",
   "metadata": {
    "execution": {
     "iopub.execute_input": "2023-05-03T15:30:14.184073Z",
     "iopub.status.busy": "2023-05-03T15:30:14.183631Z",
     "iopub.status.idle": "2023-05-03T15:30:14.192506Z",
     "shell.execute_reply": "2023-05-03T15:30:14.191330Z"
    },
    "papermill": {
     "duration": 0.032575,
     "end_time": "2023-05-03T15:30:14.195106",
     "exception": false,
     "start_time": "2023-05-03T15:30:14.162531",
     "status": "completed"
    },
    "tags": []
   },
   "outputs": [
    {
     "data": {
      "text/plain": [
       "0    2037\n",
       "1    2037\n",
       "Name: Churn, dtype: int64"
      ]
     },
     "execution_count": 25,
     "metadata": {},
     "output_type": "execute_result"
    }
   ],
   "source": [
    "y_rus.value_counts()"
   ]
  },
  {
   "cell_type": "code",
   "execution_count": 26,
   "id": "cbbe982e",
   "metadata": {
    "execution": {
     "iopub.execute_input": "2023-05-03T15:30:14.236935Z",
     "iopub.status.busy": "2023-05-03T15:30:14.235726Z",
     "iopub.status.idle": "2023-05-03T15:30:14.497888Z",
     "shell.execute_reply": "2023-05-03T15:30:14.496450Z"
    },
    "papermill": {
     "duration": 0.286068,
     "end_time": "2023-05-03T15:30:14.500708",
     "exception": false,
     "start_time": "2023-05-03T15:30:14.214640",
     "status": "completed"
    },
    "tags": []
   },
   "outputs": [
    {
     "data": {
      "text/plain": [
       "<AxesSubplot:ylabel='Frequency'>"
      ]
     },
     "execution_count": 26,
     "metadata": {},
     "output_type": "execute_result"
    },
    {
     "data": {
      "image/png": "[encoded data removed]",
      "text/plain": [
       "<Figure size 640x480 with 1 Axes>"
      ]
     },
     "metadata": {},
     "output_type": "display_data"
    }
   ],
   "source": [
    "y_rus.plot(kind='hist')"
   ]
  },
  {
   "cell_type": "markdown",
   "id": "e385e9da",
   "metadata": {
    "papermill": {
     "duration": 0.019897,
     "end_time": "2023-05-03T15:30:14.541629",
     "exception": false,
     "start_time": "2023-05-03T15:30:14.521732",
     "status": "completed"
    },
    "tags": []
   },
   "source": [
    "**Random Oversampling**"
   ]
  },
  {
   "cell_type": "code",
   "execution_count": 27,
   "id": "62b6ab6f",
   "metadata": {
    "execution": {
     "iopub.execute_input": "2023-05-03T15:30:14.584411Z",
     "iopub.status.busy": "2023-05-03T15:30:14.583245Z",
     "iopub.status.idle": "2023-05-03T15:30:14.607301Z",
     "shell.execute_reply": "2023-05-03T15:30:14.605879Z"
    },
    "papermill": {
     "duration": 0.048419,
     "end_time": "2023-05-03T15:30:14.610240",
     "exception": false,
     "start_time": "2023-05-03T15:30:14.561821",
     "status": "completed"
    },
    "tags": []
   },
   "outputs": [
    {
     "data": {
      "text/plain": [
       "((15926, 11), (15926,), (10000, 11), (10000,))"
      ]
     },
     "execution_count": 27,
     "metadata": {},
     "output_type": "execute_result"
    }
   ],
   "source": [
    "from imblearn.over_sampling import RandomOverSampler\n",
    "ros= RandomOverSampler(random_state=102)\n",
    "x_ros,y_ros=ros.fit_resample(x,y)\n",
    "x_ros.shape,y_ros.shape,x.shape,y.shape"
   ]
  },
  {
   "cell_type": "code",
   "execution_count": 28,
   "id": "abc0c5dc",
   "metadata": {
    "execution": {
     "iopub.execute_input": "2023-05-03T15:30:14.654122Z",
     "iopub.status.busy": "2023-05-03T15:30:14.653685Z",
     "iopub.status.idle": "2023-05-03T15:30:14.662241Z",
     "shell.execute_reply": "2023-05-03T15:30:14.661200Z"
    },
    "papermill": {
     "duration": 0.03344,
     "end_time": "2023-05-03T15:30:14.664582",
     "exception": false,
     "start_time": "2023-05-03T15:30:14.631142",
     "status": "completed"
    },
    "tags": []
   },
   "outputs": [
    {
     "data": {
      "text/plain": [
       "1    7963\n",
       "0    7963\n",
       "Name: Churn, dtype: int64"
      ]
     },
     "execution_count": 28,
     "metadata": {},
     "output_type": "execute_result"
    }
   ],
   "source": [
    "y_ros.value_counts()"
   ]
  },
  {
   "cell_type": "code",
   "execution_count": 29,
   "id": "7b6913ea",
   "metadata": {
    "execution": {
     "iopub.execute_input": "2023-05-03T15:30:14.708451Z",
     "iopub.status.busy": "2023-05-03T15:30:14.707144Z",
     "iopub.status.idle": "2023-05-03T15:30:14.966341Z",
     "shell.execute_reply": "2023-05-03T15:30:14.965178Z"
    },
    "papermill": {
     "duration": 0.283802,
     "end_time": "2023-05-03T15:30:14.969133",
     "exception": false,
     "start_time": "2023-05-03T15:30:14.685331",
     "status": "completed"
    },
    "tags": []
   },
   "outputs": [
    {
     "data": {
      "text/plain": [
       "<AxesSubplot:ylabel='Frequency'>"
      ]
     },
     "execution_count": 29,
     "metadata": {},
     "output_type": "execute_result"
    },
    {
     "data": {
      "image/png": "[encoded data removed]",
      "text/plain": [
       "<Figure size 640x480 with 1 Axes>"
      ]
     },
     "metadata": {},
     "output_type": "display_data"
    }
   ],
   "source": [
    "y_ros.plot(kind='hist')"
   ]
  },
  {
   "cell_type": "markdown",
   "id": "eaae9f69",
   "metadata": {
    "papermill": {
     "duration": 0.02042,
     "end_time": "2023-05-03T15:30:15.010467",
     "exception": false,
     "start_time": "2023-05-03T15:30:14.990047",
     "status": "completed"
    },
    "tags": []
   },
   "source": [
    "**Train Test Split**"
   ]
  },
  {
   "cell_type": "code",
   "execution_count": 30,
   "id": "83b8dd7e",
   "metadata": {
    "execution": {
     "iopub.execute_input": "2023-05-03T15:30:15.055082Z",
     "iopub.status.busy": "2023-05-03T15:30:15.054383Z",
     "iopub.status.idle": "2023-05-03T15:30:15.070961Z",
     "shell.execute_reply": "2023-05-03T15:30:15.069681Z"
    },
    "papermill": {
     "duration": 0.042358,
     "end_time": "2023-05-03T15:30:15.073715",
     "exception": false,
     "start_time": "2023-05-03T15:30:15.031357",
     "status": "completed"
    },
    "tags": []
   },
   "outputs": [],
   "source": [
    "from sklearn.model_selection import train_test_split\n",
    "x_train,x_test,y_train,y_test=train_test_split(x,y,random_state=200) #split original data\n",
    "x_train_rus,x_test_rus,y_test_rus,y_train_rus=train_test_split(x_rus,y_rus,random_state=200) #split random under sample data\n",
    "x_train_ros,x_test_ros,y_train_ros,y_test_ros=train_test_split(x_ros,y_ros,random_state=200) #split random over sample data"
   ]
  },
  {
   "cell_type": "markdown",
   "id": "5ca77f1c",
   "metadata": {
    "papermill": {
     "duration": 0.020377,
     "end_time": "2023-05-03T15:30:15.114919",
     "exception": false,
     "start_time": "2023-05-03T15:30:15.094542",
     "status": "completed"
    },
    "tags": []
   },
   "source": [
    "**Standardize Features**"
   ]
  },
  {
   "cell_type": "code",
   "execution_count": 31,
   "id": "f03a7754",
   "metadata": {
    "execution": {
     "iopub.execute_input": "2023-05-03T15:30:15.158954Z",
     "iopub.status.busy": "2023-05-03T15:30:15.158498Z",
     "iopub.status.idle": "2023-05-03T15:30:15.163880Z",
     "shell.execute_reply": "2023-05-03T15:30:15.162567Z"
    },
    "papermill": {
     "duration": 0.030409,
     "end_time": "2023-05-03T15:30:15.166488",
     "exception": false,
     "start_time": "2023-05-03T15:30:15.136079",
     "status": "completed"
    },
    "tags": []
   },
   "outputs": [],
   "source": [
    "from sklearn.preprocessing import StandardScaler\n",
    "sc=StandardScaler()"
   ]
  },
  {
   "cell_type": "markdown",
   "id": "cbe11bac",
   "metadata": {
    "papermill": {
     "duration": 0.020449,
     "end_time": "2023-05-03T15:30:15.207710",
     "exception": false,
     "start_time": "2023-05-03T15:30:15.187261",
     "status": "completed"
    },
    "tags": []
   },
   "source": [
    "Standardize Original Data"
   ]
  },
  {
   "cell_type": "code",
   "execution_count": 32,
   "id": "daeadb0f",
   "metadata": {
    "execution": {
     "iopub.execute_input": "2023-05-03T15:30:15.251399Z",
     "iopub.status.busy": "2023-05-03T15:30:15.250947Z",
     "iopub.status.idle": "2023-05-03T15:30:15.258574Z",
     "shell.execute_reply": "2023-05-03T15:30:15.257262Z"
    },
    "papermill": {
     "duration": 0.032369,
     "end_time": "2023-05-03T15:30:15.261112",
     "exception": false,
     "start_time": "2023-05-03T15:30:15.228743",
     "status": "completed"
    },
    "tags": []
   },
   "outputs": [
    {
     "data": {
      "text/plain": [
       "Index(['CreditScore', 'Geography', 'Gender', 'Age', 'Tenure', 'Balance',\n",
       "       'Num Of Products', 'Has Credit Card', 'Is Active Member',\n",
       "       'Estimated Salary', 'Zero Balance'],\n",
       "      dtype='object')"
      ]
     },
     "execution_count": 32,
     "metadata": {},
     "output_type": "execute_result"
    }
   ],
   "source": [
    "x_train.columns"
   ]
  },
  {
   "cell_type": "code",
   "execution_count": 33,
   "id": "4b03166b",
   "metadata": {
    "execution": {
     "iopub.execute_input": "2023-05-03T15:30:15.304841Z",
     "iopub.status.busy": "2023-05-03T15:30:15.304429Z",
     "iopub.status.idle": "2023-05-03T15:30:15.312325Z",
     "shell.execute_reply": "2023-05-03T15:30:15.311052Z"
    },
    "papermill": {
     "duration": 0.03295,
     "end_time": "2023-05-03T15:30:15.314787",
     "exception": false,
     "start_time": "2023-05-03T15:30:15.281837",
     "status": "completed"
    },
    "tags": []
   },
   "outputs": [
    {
     "data": {
      "text/plain": [
       "Index(['CreditScore', 'Geography', 'Gender', 'Age', 'Tenure', 'Balance',\n",
       "       'Num Of Products', 'Has Credit Card', 'Is Active Member',\n",
       "       'Estimated Salary', 'Zero Balance'],\n",
       "      dtype='object')"
      ]
     },
     "execution_count": 33,
     "metadata": {},
     "output_type": "execute_result"
    }
   ],
   "source": [
    "x.columns"
   ]
  },
  {
   "cell_type": "code",
   "execution_count": 34,
   "id": "c4f13561",
   "metadata": {
    "execution": {
     "iopub.execute_input": "2023-05-03T15:30:15.358766Z",
     "iopub.status.busy": "2023-05-03T15:30:15.358336Z",
     "iopub.status.idle": "2023-05-03T15:30:15.366268Z",
     "shell.execute_reply": "2023-05-03T15:30:15.364847Z"
    },
    "papermill": {
     "duration": 0.033097,
     "end_time": "2023-05-03T15:30:15.368800",
     "exception": false,
     "start_time": "2023-05-03T15:30:15.335703",
     "status": "completed"
    },
    "tags": []
   },
   "outputs": [
    {
     "data": {
      "text/plain": [
       "(11,)"
      ]
     },
     "execution_count": 34,
     "metadata": {},
     "output_type": "execute_result"
    }
   ],
   "source": [
    "x_train.columns.shape"
   ]
  },
  {
   "cell_type": "code",
   "execution_count": 35,
   "id": "3749a92e",
   "metadata": {
    "execution": {
     "iopub.execute_input": "2023-05-03T15:30:15.414387Z",
     "iopub.status.busy": "2023-05-03T15:30:15.413267Z",
     "iopub.status.idle": "2023-05-03T15:30:15.421264Z",
     "shell.execute_reply": "2023-05-03T15:30:15.419969Z"
    },
    "papermill": {
     "duration": 0.033674,
     "end_time": "2023-05-03T15:30:15.423723",
     "exception": false,
     "start_time": "2023-05-03T15:30:15.390049",
     "status": "completed"
    },
    "tags": []
   },
   "outputs": [
    {
     "data": {
      "text/plain": [
       "(11,)"
      ]
     },
     "execution_count": 35,
     "metadata": {},
     "output_type": "execute_result"
    }
   ],
   "source": [
    "x.columns.shape"
   ]
  },
  {
   "cell_type": "code",
   "execution_count": 36,
   "id": "dfa910ee",
   "metadata": {
    "execution": {
     "iopub.execute_input": "2023-05-03T15:30:15.469702Z",
     "iopub.status.busy": "2023-05-03T15:30:15.468365Z",
     "iopub.status.idle": "2023-05-03T15:30:15.476059Z",
     "shell.execute_reply": "2023-05-03T15:30:15.474452Z"
    },
    "papermill": {
     "duration": 0.033616,
     "end_time": "2023-05-03T15:30:15.478680",
     "exception": false,
     "start_time": "2023-05-03T15:30:15.445064",
     "status": "completed"
    },
    "tags": []
   },
   "outputs": [
    {
     "name": "stdout",
     "output_type": "stream",
     "text": [
      "11\n"
     ]
    }
   ],
   "source": [
    "no_lines=len(list(x))\n",
    "print(no_lines)"
   ]
  },
  {
   "cell_type": "code",
   "execution_count": 37,
   "id": "e205b3d3",
   "metadata": {
    "execution": {
     "iopub.execute_input": "2023-05-03T15:30:15.522765Z",
     "iopub.status.busy": "2023-05-03T15:30:15.522331Z",
     "iopub.status.idle": "2023-05-03T15:30:15.529854Z",
     "shell.execute_reply": "2023-05-03T15:30:15.528896Z"
    },
    "papermill": {
     "duration": 0.032247,
     "end_time": "2023-05-03T15:30:15.532103",
     "exception": false,
     "start_time": "2023-05-03T15:30:15.499856",
     "status": "completed"
    },
    "tags": []
   },
   "outputs": [
    {
     "data": {
      "text/plain": [
       "((10000, 11), (10000,), (7500, 11), (7500,), (2500, 11), (2500,))"
      ]
     },
     "execution_count": 37,
     "metadata": {},
     "output_type": "execute_result"
    }
   ],
   "source": [
    "x.shape,y.shape,x_train.shape,y_train.shape,x_test.shape,y_test.shape"
   ]
  },
  {
   "cell_type": "markdown",
   "id": "ec2b8f2f",
   "metadata": {
    "papermill": {
     "duration": 0.020943,
     "end_time": "2023-05-03T15:30:15.574274",
     "exception": false,
     "start_time": "2023-05-03T15:30:15.553331",
     "status": "completed"
    },
    "tags": []
   },
   "source": [
    "standardize data"
   ]
  },
  {
   "cell_type": "code",
   "execution_count": 38,
   "id": "6e50a748",
   "metadata": {
    "execution": {
     "iopub.execute_input": "2023-05-03T15:30:15.618932Z",
     "iopub.status.busy": "2023-05-03T15:30:15.618511Z",
     "iopub.status.idle": "2023-05-03T15:30:15.637668Z",
     "shell.execute_reply": "2023-05-03T15:30:15.636554Z"
    },
    "papermill": {
     "duration": 0.044921,
     "end_time": "2023-05-03T15:30:15.640533",
     "exception": false,
     "start_time": "2023-05-03T15:30:15.595612",
     "status": "completed"
    },
    "tags": []
   },
   "outputs": [],
   "source": [
    "x_train[['CreditScore','Age','Tenure','Balance','Estimated Salary']]=sc.fit_transform(x_train[['CreditScore','Age','Tenure','Balance','Estimated Salary']])\n",
    "x_test[['CreditScore','Age','Tenure','Balance','Estimated Salary']]=sc.fit_transform(x_test[['CreditScore','Age','Tenure','Balance','Estimated Salary']])"
   ]
  },
  {
   "cell_type": "markdown",
   "id": "37d21eec",
   "metadata": {
    "papermill": {
     "duration": 0.021197,
     "end_time": "2023-05-03T15:30:15.683997",
     "exception": false,
     "start_time": "2023-05-03T15:30:15.662800",
     "status": "completed"
    },
    "tags": []
   },
   "source": [
    "standardize random under sample data"
   ]
  },
  {
   "cell_type": "code",
   "execution_count": 39,
   "id": "1a792ac1",
   "metadata": {
    "execution": {
     "iopub.execute_input": "2023-05-03T15:30:15.729770Z",
     "iopub.status.busy": "2023-05-03T15:30:15.729348Z",
     "iopub.status.idle": "2023-05-03T15:30:15.747943Z",
     "shell.execute_reply": "2023-05-03T15:30:15.746968Z"
    },
    "papermill": {
     "duration": 0.045315,
     "end_time": "2023-05-03T15:30:15.750678",
     "exception": false,
     "start_time": "2023-05-03T15:30:15.705363",
     "status": "completed"
    },
    "tags": []
   },
   "outputs": [],
   "source": [
    "x_train_rus[['CreditScore','Age','Tenure','Balance','Estimated Salary']]=sc.fit_transform(x_train_rus[['CreditScore','Age','Tenure','Balance','Estimated Salary']])\n",
    "x_test_rus[['CreditScore','Age','Tenure','Balance','Estimated Salary']]=sc.fit_transform(x_test_rus[['CreditScore','Age','Tenure','Balance','Estimated Salary']])"
   ]
  },
  {
   "cell_type": "markdown",
   "id": "92f42870",
   "metadata": {
    "papermill": {
     "duration": 0.021054,
     "end_time": "2023-05-03T15:30:15.793659",
     "exception": false,
     "start_time": "2023-05-03T15:30:15.772605",
     "status": "completed"
    },
    "tags": []
   },
   "source": [
    "standardize random over sample data"
   ]
  },
  {
   "cell_type": "code",
   "execution_count": 40,
   "id": "0135ce95",
   "metadata": {
    "execution": {
     "iopub.execute_input": "2023-05-03T15:30:15.839211Z",
     "iopub.status.busy": "2023-05-03T15:30:15.838033Z",
     "iopub.status.idle": "2023-05-03T15:30:15.858384Z",
     "shell.execute_reply": "2023-05-03T15:30:15.857145Z"
    },
    "papermill": {
     "duration": 0.046109,
     "end_time": "2023-05-03T15:30:15.861383",
     "exception": false,
     "start_time": "2023-05-03T15:30:15.815274",
     "status": "completed"
    },
    "tags": []
   },
   "outputs": [],
   "source": [
    "x_train_ros[['CreditScore','Age','Tenure','Balance','Estimated Salary']]=sc.fit_transform(x_train_ros[['CreditScore','Age','Tenure','Balance','Estimated Salary']])\n",
    "x_test_ros[['CreditScore','Age','Tenure','Balance','Estimated Salary']]=sc.fit_transform(x_test_ros[['CreditScore','Age','Tenure','Balance','Estimated Salary']])"
   ]
  },
  {
   "cell_type": "markdown",
   "id": "a12f0801",
   "metadata": {
    "papermill": {
     "duration": 0.026878,
     "end_time": "2023-05-03T15:30:15.915542",
     "exception": false,
     "start_time": "2023-05-03T15:30:15.888664",
     "status": "completed"
    },
    "tags": []
   },
   "source": [
    "**Modelling**\n",
    "Support Vector Machine Classifier"
   ]
  },
  {
   "cell_type": "code",
   "execution_count": 41,
   "id": "43193ee5",
   "metadata": {
    "execution": {
     "iopub.execute_input": "2023-05-03T15:30:15.974294Z",
     "iopub.status.busy": "2023-05-03T15:30:15.973109Z",
     "iopub.status.idle": "2023-05-03T15:30:17.549852Z",
     "shell.execute_reply": "2023-05-03T15:30:17.548770Z"
    },
    "papermill": {
     "duration": 1.608194,
     "end_time": "2023-05-03T15:30:17.552896",
     "exception": false,
     "start_time": "2023-05-03T15:30:15.944702",
     "status": "completed"
    },
    "tags": []
   },
   "outputs": [
    {
     "data": {
      "text/plain": [
       "SVC()"
      ]
     },
     "execution_count": 41,
     "metadata": {},
     "output_type": "execute_result"
    }
   ],
   "source": [
    "from sklearn.svm import SVC\n",
    "svc=SVC()\n",
    "svc.fit(x_train,y_train)"
   ]
  },
  {
   "cell_type": "code",
   "execution_count": 42,
   "id": "52c111f1",
   "metadata": {
    "execution": {
     "iopub.execute_input": "2023-05-03T15:30:17.599856Z",
     "iopub.status.busy": "2023-05-03T15:30:17.599146Z",
     "iopub.status.idle": "2023-05-03T15:30:18.040220Z",
     "shell.execute_reply": "2023-05-03T15:30:18.038710Z"
    },
    "papermill": {
     "duration": 0.467877,
     "end_time": "2023-05-03T15:30:18.043357",
     "exception": false,
     "start_time": "2023-05-03T15:30:17.575480",
     "status": "completed"
    },
    "tags": []
   },
   "outputs": [],
   "source": [
    "y_pred=svc.predict(x_test)"
   ]
  },
  {
   "cell_type": "markdown",
   "id": "a6bac9d5",
   "metadata": {
    "papermill": {
     "duration": 0.021123,
     "end_time": "2023-05-03T15:30:18.086690",
     "exception": false,
     "start_time": "2023-05-03T15:30:18.065567",
     "status": "completed"
    },
    "tags": []
   },
   "source": [
    "**Model Evaluation**"
   ]
  },
  {
   "cell_type": "code",
   "execution_count": 43,
   "id": "0b55d2d2",
   "metadata": {
    "execution": {
     "iopub.execute_input": "2023-05-03T15:30:18.131614Z",
     "iopub.status.busy": "2023-05-03T15:30:18.131201Z",
     "iopub.status.idle": "2023-05-03T15:30:18.141775Z",
     "shell.execute_reply": "2023-05-03T15:30:18.140519Z"
    },
    "papermill": {
     "duration": 0.036311,
     "end_time": "2023-05-03T15:30:18.144334",
     "exception": false,
     "start_time": "2023-05-03T15:30:18.108023",
     "status": "completed"
    },
    "tags": []
   },
   "outputs": [
    {
     "data": {
      "text/plain": [
       "array([[1948,   30],\n",
       "       [ 393,  129]])"
      ]
     },
     "execution_count": 43,
     "metadata": {},
     "output_type": "execute_result"
    }
   ],
   "source": [
    "from sklearn.metrics import confusion_matrix, classification_report\n",
    "confusion_matrix(y_test,y_pred)"
   ]
  },
  {
   "cell_type": "markdown",
   "id": "c0caf5ba",
   "metadata": {
    "papermill": {
     "duration": 0.02121,
     "end_time": "2023-05-03T15:30:18.187015",
     "exception": false,
     "start_time": "2023-05-03T15:30:18.165805",
     "status": "completed"
    },
    "tags": []
   },
   "source": [
    "**Prediction**"
   ]
  },
  {
   "cell_type": "code",
   "execution_count": 44,
   "id": "e45a903f",
   "metadata": {
    "execution": {
     "iopub.execute_input": "2023-05-03T15:30:18.231912Z",
     "iopub.status.busy": "2023-05-03T15:30:18.231459Z",
     "iopub.status.idle": "2023-05-03T15:30:18.245004Z",
     "shell.execute_reply": "2023-05-03T15:30:18.243454Z"
    },
    "papermill": {
     "duration": 0.038716,
     "end_time": "2023-05-03T15:30:18.247216",
     "exception": false,
     "start_time": "2023-05-03T15:30:18.208500",
     "status": "completed"
    },
    "tags": []
   },
   "outputs": [
    {
     "name": "stdout",
     "output_type": "stream",
     "text": [
      "              precision    recall  f1-score   support\n",
      "\n",
      "           0       0.83      0.98      0.90      1978\n",
      "           1       0.81      0.25      0.38       522\n",
      "\n",
      "    accuracy                           0.83      2500\n",
      "   macro avg       0.82      0.62      0.64      2500\n",
      "weighted avg       0.83      0.83      0.79      2500\n",
      "\n"
     ]
    }
   ],
   "source": [
    "print(classification_report(y_test,y_pred))"
   ]
  },
  {
   "cell_type": "markdown",
   "id": "e63edce5",
   "metadata": {
    "papermill": {
     "duration": 0.021114,
     "end_time": "2023-05-03T15:30:18.289729",
     "exception": false,
     "start_time": "2023-05-03T15:30:18.268615",
     "status": "completed"
    },
    "tags": []
   },
   "source": [
    "**Hyperparameter Tuning**"
   ]
  },
  {
   "cell_type": "code",
   "execution_count": 45,
   "id": "3b59e2a1",
   "metadata": {
    "execution": {
     "iopub.execute_input": "2023-05-03T15:30:18.334743Z",
     "iopub.status.busy": "2023-05-03T15:30:18.333929Z",
     "iopub.status.idle": "2023-05-03T15:30:18.339030Z",
     "shell.execute_reply": "2023-05-03T15:30:18.338112Z"
    },
    "papermill": {
     "duration": 0.030328,
     "end_time": "2023-05-03T15:30:18.341487",
     "exception": false,
     "start_time": "2023-05-03T15:30:18.311159",
     "status": "completed"
    },
    "tags": []
   },
   "outputs": [],
   "source": [
    "from sklearn.model_selection import GridSearchCV\n",
    "param_grid={'C':[0.1,1,10], 'gamma':[1,0.1,0.01], 'kernel':['rbf'], 'class_weight':['balanced']}"
   ]
  },
  {
   "cell_type": "code",
   "execution_count": 46,
   "id": "1ddc5005",
   "metadata": {
    "execution": {
     "iopub.execute_input": "2023-05-03T15:30:18.386446Z",
     "iopub.status.busy": "2023-05-03T15:30:18.385999Z",
     "iopub.status.idle": "2023-05-03T15:30:47.167898Z",
     "shell.execute_reply": "2023-05-03T15:30:47.166467Z"
    },
    "papermill": {
     "duration": 28.807983,
     "end_time": "2023-05-03T15:30:47.170997",
     "exception": false,
     "start_time": "2023-05-03T15:30:18.363014",
     "status": "completed"
    },
    "tags": []
   },
   "outputs": [
    {
     "name": "stdout",
     "output_type": "stream",
     "text": [
      "Fitting 2 folds for each of 9 candidates, totalling 18 fits\n",
      "[CV] END ..C=0.1, class_weight=balanced, gamma=1, kernel=rbf; total time=   1.7s\n",
      "[CV] END ..C=0.1, class_weight=balanced, gamma=1, kernel=rbf; total time=   1.7s\n",
      "[CV] END C=0.1, class_weight=balanced, gamma=0.1, kernel=rbf; total time=   1.3s\n",
      "[CV] END C=0.1, class_weight=balanced, gamma=0.1, kernel=rbf; total time=   1.3s\n",
      "[CV] END C=0.1, class_weight=balanced, gamma=0.01, kernel=rbf; total time=   1.5s\n",
      "[CV] END C=0.1, class_weight=balanced, gamma=0.01, kernel=rbf; total time=   1.5s\n",
      "[CV] END ....C=1, class_weight=balanced, gamma=1, kernel=rbf; total time=   1.6s\n",
      "[CV] END ....C=1, class_weight=balanced, gamma=1, kernel=rbf; total time=   1.5s\n",
      "[CV] END ..C=1, class_weight=balanced, gamma=0.1, kernel=rbf; total time=   1.2s\n",
      "[CV] END ..C=1, class_weight=balanced, gamma=0.1, kernel=rbf; total time=   1.1s\n",
      "[CV] END .C=1, class_weight=balanced, gamma=0.01, kernel=rbf; total time=   1.3s\n",
      "[CV] END .C=1, class_weight=balanced, gamma=0.01, kernel=rbf; total time=   1.2s\n",
      "[CV] END ...C=10, class_weight=balanced, gamma=1, kernel=rbf; total time=   1.5s\n",
      "[CV] END ...C=10, class_weight=balanced, gamma=1, kernel=rbf; total time=   1.5s\n",
      "[CV] END .C=10, class_weight=balanced, gamma=0.1, kernel=rbf; total time=   1.2s\n",
      "[CV] END .C=10, class_weight=balanced, gamma=0.1, kernel=rbf; total time=   1.2s\n",
      "[CV] END C=10, class_weight=balanced, gamma=0.01, kernel=rbf; total time=   1.2s\n",
      "[CV] END C=10, class_weight=balanced, gamma=0.01, kernel=rbf; total time=   1.2s\n"
     ]
    },
    {
     "data": {
      "text/plain": [
       "GridSearchCV(cv=2, estimator=SVC(),\n",
       "             param_grid={'C': [0.1, 1, 10], 'class_weight': ['balanced'],\n",
       "                         'gamma': [1, 0.1, 0.01], 'kernel': ['rbf']},\n",
       "             verbose=2)"
      ]
     },
     "execution_count": 46,
     "metadata": {},
     "output_type": "execute_result"
    }
   ],
   "source": [
    "grid= GridSearchCV(SVC(),param_grid,refit=True,verbose=2,cv=2)\n",
    "grid.fit(x_train,y_train)"
   ]
  },
  {
   "cell_type": "code",
   "execution_count": 47,
   "id": "4a36ca80",
   "metadata": {
    "execution": {
     "iopub.execute_input": "2023-05-03T15:30:47.221621Z",
     "iopub.status.busy": "2023-05-03T15:30:47.220714Z",
     "iopub.status.idle": "2023-05-03T15:30:47.228118Z",
     "shell.execute_reply": "2023-05-03T15:30:47.226760Z"
    },
    "papermill": {
     "duration": 0.035504,
     "end_time": "2023-05-03T15:30:47.230569",
     "exception": false,
     "start_time": "2023-05-03T15:30:47.195065",
     "status": "completed"
    },
    "tags": []
   },
   "outputs": [
    {
     "name": "stdout",
     "output_type": "stream",
     "text": [
      "SVC(C=0.1, class_weight='balanced', gamma=1)\n"
     ]
    }
   ],
   "source": [
    "print(grid.best_estimator_)"
   ]
  },
  {
   "cell_type": "code",
   "execution_count": 48,
   "id": "b795369b",
   "metadata": {
    "execution": {
     "iopub.execute_input": "2023-05-03T15:30:47.279897Z",
     "iopub.status.busy": "2023-05-03T15:30:47.278845Z",
     "iopub.status.idle": "2023-05-03T15:30:48.329583Z",
     "shell.execute_reply": "2023-05-03T15:30:48.328211Z"
    },
    "papermill": {
     "duration": 1.078412,
     "end_time": "2023-05-03T15:30:48.332443",
     "exception": false,
     "start_time": "2023-05-03T15:30:47.254031",
     "status": "completed"
    },
    "tags": []
   },
   "outputs": [
    {
     "data": {
      "text/plain": [
       "array([[1675,  303],\n",
       "       [ 246,  276]])"
      ]
     },
     "execution_count": 48,
     "metadata": {},
     "output_type": "execute_result"
    }
   ],
   "source": [
    "grid_predictions=grid.predict(x_test)\n",
    "confusion_matrix(y_test,grid_predictions)"
   ]
  },
  {
   "cell_type": "code",
   "execution_count": 49,
   "id": "3ac0e806",
   "metadata": {
    "execution": {
     "iopub.execute_input": "2023-05-03T15:30:48.380887Z",
     "iopub.status.busy": "2023-05-03T15:30:48.380385Z",
     "iopub.status.idle": "2023-05-03T15:30:48.396012Z",
     "shell.execute_reply": "2023-05-03T15:30:48.394366Z"
    },
    "papermill": {
     "duration": 0.043119,
     "end_time": "2023-05-03T15:30:48.398765",
     "exception": false,
     "start_time": "2023-05-03T15:30:48.355646",
     "status": "completed"
    },
    "tags": []
   },
   "outputs": [
    {
     "name": "stdout",
     "output_type": "stream",
     "text": [
      "              precision    recall  f1-score   support\n",
      "\n",
      "           0       0.87      0.85      0.86      1978\n",
      "           1       0.48      0.53      0.50       522\n",
      "\n",
      "    accuracy                           0.78      2500\n",
      "   macro avg       0.67      0.69      0.68      2500\n",
      "weighted avg       0.79      0.78      0.78      2500\n",
      "\n"
     ]
    }
   ],
   "source": [
    "print(classification_report(y_test,grid_predictions))"
   ]
  },
  {
   "cell_type": "markdown",
   "id": "19cc2617",
   "metadata": {
    "papermill": {
     "duration": 0.02279,
     "end_time": "2023-05-03T15:30:48.444691",
     "exception": false,
     "start_time": "2023-05-03T15:30:48.421901",
     "status": "completed"
    },
    "tags": []
   },
   "source": [
    "**Model with Random Over Sampling**"
   ]
  },
  {
   "cell_type": "code",
   "execution_count": 50,
   "id": "160edf56",
   "metadata": {
    "execution": {
     "iopub.execute_input": "2023-05-03T15:30:48.493182Z",
     "iopub.status.busy": "2023-05-03T15:30:48.492192Z",
     "iopub.status.idle": "2023-05-03T15:30:48.498280Z",
     "shell.execute_reply": "2023-05-03T15:30:48.496887Z"
    },
    "papermill": {
     "duration": 0.033191,
     "end_time": "2023-05-03T15:30:48.500960",
     "exception": false,
     "start_time": "2023-05-03T15:30:48.467769",
     "status": "completed"
    },
    "tags": []
   },
   "outputs": [],
   "source": [
    "svc_ros=SVC()"
   ]
  },
  {
   "cell_type": "code",
   "execution_count": 51,
   "id": "a0b91768",
   "metadata": {
    "execution": {
     "iopub.execute_input": "2023-05-03T15:30:48.549298Z",
     "iopub.status.busy": "2023-05-03T15:30:48.548820Z",
     "iopub.status.idle": "2023-05-03T15:30:54.837579Z",
     "shell.execute_reply": "2023-05-03T15:30:54.836396Z"
    },
    "papermill": {
     "duration": 6.315976,
     "end_time": "2023-05-03T15:30:54.840235",
     "exception": false,
     "start_time": "2023-05-03T15:30:48.524259",
     "status": "completed"
    },
    "tags": []
   },
   "outputs": [
    {
     "data": {
      "text/plain": [
       "SVC()"
      ]
     },
     "execution_count": 51,
     "metadata": {},
     "output_type": "execute_result"
    }
   ],
   "source": [
    "svc_ros.fit(x_train_ros,y_train_ros)"
   ]
  },
  {
   "cell_type": "code",
   "execution_count": 52,
   "id": "1396f16c",
   "metadata": {
    "execution": {
     "iopub.execute_input": "2023-05-03T15:30:54.889624Z",
     "iopub.status.busy": "2023-05-03T15:30:54.888248Z",
     "iopub.status.idle": "2023-05-03T15:30:56.548652Z",
     "shell.execute_reply": "2023-05-03T15:30:56.547359Z"
    },
    "papermill": {
     "duration": 1.687947,
     "end_time": "2023-05-03T15:30:56.551682",
     "exception": false,
     "start_time": "2023-05-03T15:30:54.863735",
     "status": "completed"
    },
    "tags": []
   },
   "outputs": [],
   "source": [
    "y_pred_ros=svc_ros.predict(x_test_ros)"
   ]
  },
  {
   "cell_type": "code",
   "execution_count": 53,
   "id": "711dd186",
   "metadata": {
    "execution": {
     "iopub.execute_input": "2023-05-03T15:30:56.600539Z",
     "iopub.status.busy": "2023-05-03T15:30:56.599760Z",
     "iopub.status.idle": "2023-05-03T15:30:56.607537Z",
     "shell.execute_reply": "2023-05-03T15:30:56.606572Z"
    },
    "papermill": {
     "duration": 0.034873,
     "end_time": "2023-05-03T15:30:56.609858",
     "exception": false,
     "start_time": "2023-05-03T15:30:56.574985",
     "status": "completed"
    },
    "tags": []
   },
   "outputs": [
    {
     "data": {
      "text/plain": [
       "array([[1528,  428],\n",
       "       [ 526, 1500]])"
      ]
     },
     "execution_count": 53,
     "metadata": {},
     "output_type": "execute_result"
    }
   ],
   "source": [
    "confusion_matrix(y_test_ros,y_pred_ros)"
   ]
  },
  {
   "cell_type": "code",
   "execution_count": 54,
   "id": "034b6dec",
   "metadata": {
    "execution": {
     "iopub.execute_input": "2023-05-03T15:30:56.659383Z",
     "iopub.status.busy": "2023-05-03T15:30:56.658366Z",
     "iopub.status.idle": "2023-05-03T15:30:56.674704Z",
     "shell.execute_reply": "2023-05-03T15:30:56.673225Z"
    },
    "papermill": {
     "duration": 0.043656,
     "end_time": "2023-05-03T15:30:56.677363",
     "exception": false,
     "start_time": "2023-05-03T15:30:56.633707",
     "status": "completed"
    },
    "tags": []
   },
   "outputs": [
    {
     "name": "stdout",
     "output_type": "stream",
     "text": [
      "              precision    recall  f1-score   support\n",
      "\n",
      "           0       0.74      0.78      0.76      1956\n",
      "           1       0.78      0.74      0.76      2026\n",
      "\n",
      "    accuracy                           0.76      3982\n",
      "   macro avg       0.76      0.76      0.76      3982\n",
      "weighted avg       0.76      0.76      0.76      3982\n",
      "\n"
     ]
    }
   ],
   "source": [
    "print(classification_report(y_test_ros,y_pred_ros))"
   ]
  },
  {
   "cell_type": "code",
   "execution_count": 55,
   "id": "d3a320d2",
   "metadata": {
    "execution": {
     "iopub.execute_input": "2023-05-03T15:30:56.726755Z",
     "iopub.status.busy": "2023-05-03T15:30:56.726339Z",
     "iopub.status.idle": "2023-05-03T15:32:11.114760Z",
     "shell.execute_reply": "2023-05-03T15:32:11.113552Z"
    },
    "papermill": {
     "duration": 74.415604,
     "end_time": "2023-05-03T15:32:11.117232",
     "exception": false,
     "start_time": "2023-05-03T15:30:56.701628",
     "status": "completed"
    },
    "tags": []
   },
   "outputs": [
    {
     "name": "stdout",
     "output_type": "stream",
     "text": [
      "Fitting 2 folds for each of 9 candidates, totalling 18 fits\n",
      "[CV] END ..C=0.1, class_weight=balanced, gamma=1, kernel=rbf; total time=   4.5s\n",
      "[CV] END ..C=0.1, class_weight=balanced, gamma=1, kernel=rbf; total time=   4.5s\n",
      "[CV] END C=0.1, class_weight=balanced, gamma=0.1, kernel=rbf; total time=   3.3s\n",
      "[CV] END C=0.1, class_weight=balanced, gamma=0.1, kernel=rbf; total time=   3.2s\n",
      "[CV] END C=0.1, class_weight=balanced, gamma=0.01, kernel=rbf; total time=   3.7s\n",
      "[CV] END C=0.1, class_weight=balanced, gamma=0.01, kernel=rbf; total time=   3.6s\n",
      "[CV] END ....C=1, class_weight=balanced, gamma=1, kernel=rbf; total time=   3.8s\n",
      "[CV] END ....C=1, class_weight=balanced, gamma=1, kernel=rbf; total time=   3.8s\n",
      "[CV] END ..C=1, class_weight=balanced, gamma=0.1, kernel=rbf; total time=   3.0s\n",
      "[CV] END ..C=1, class_weight=balanced, gamma=0.1, kernel=rbf; total time=   2.9s\n",
      "[CV] END .C=1, class_weight=balanced, gamma=0.01, kernel=rbf; total time=   3.3s\n",
      "[CV] END .C=1, class_weight=balanced, gamma=0.01, kernel=rbf; total time=   3.2s\n",
      "[CV] END ...C=10, class_weight=balanced, gamma=1, kernel=rbf; total time=   3.5s\n",
      "[CV] END ...C=10, class_weight=balanced, gamma=1, kernel=rbf; total time=   3.6s\n",
      "[CV] END .C=10, class_weight=balanced, gamma=0.1, kernel=rbf; total time=   3.3s\n",
      "[CV] END .C=10, class_weight=balanced, gamma=0.1, kernel=rbf; total time=   3.2s\n",
      "[CV] END C=10, class_weight=balanced, gamma=0.01, kernel=rbf; total time=   3.1s\n",
      "[CV] END C=10, class_weight=balanced, gamma=0.01, kernel=rbf; total time=   3.0s\n"
     ]
    },
    {
     "data": {
      "text/plain": [
       "GridSearchCV(cv=2, estimator=SVC(),\n",
       "             param_grid={'C': [0.1, 1, 10], 'class_weight': ['balanced'],\n",
       "                         'gamma': [1, 0.1, 0.01], 'kernel': ['rbf']},\n",
       "             verbose=2)"
      ]
     },
     "execution_count": 55,
     "metadata": {},
     "output_type": "execute_result"
    }
   ],
   "source": [
    "param_grid={'C':[0.1,1,10], 'gamma':[1,0.1,0.01], 'kernel':['rbf'], 'class_weight':['balanced']}\n",
    "grid_ros=GridSearchCV(SVC(),param_grid,refit=True,verbose=2,cv=2)\n",
    "grid_ros.fit(x_train_ros,y_train_ros)"
   ]
  },
  {
   "cell_type": "code",
   "execution_count": 56,
   "id": "9ddce517",
   "metadata": {
    "execution": {
     "iopub.execute_input": "2023-05-03T15:32:11.167825Z",
     "iopub.status.busy": "2023-05-03T15:32:11.167410Z",
     "iopub.status.idle": "2023-05-03T15:32:11.173572Z",
     "shell.execute_reply": "2023-05-03T15:32:11.172445Z"
    },
    "papermill": {
     "duration": 0.034025,
     "end_time": "2023-05-03T15:32:11.175808",
     "exception": false,
     "start_time": "2023-05-03T15:32:11.141783",
     "status": "completed"
    },
    "tags": []
   },
   "outputs": [
    {
     "name": "stdout",
     "output_type": "stream",
     "text": [
      "SVC(C=10, class_weight='balanced', gamma=1)\n"
     ]
    }
   ],
   "source": [
    "print(grid_ros.best_estimator_)"
   ]
  },
  {
   "cell_type": "code",
   "execution_count": 57,
   "id": "1749915c",
   "metadata": {
    "execution": {
     "iopub.execute_input": "2023-05-03T15:32:11.227999Z",
     "iopub.status.busy": "2023-05-03T15:32:11.226858Z",
     "iopub.status.idle": "2023-05-03T15:32:12.734582Z",
     "shell.execute_reply": "2023-05-03T15:32:12.733335Z"
    },
    "papermill": {
     "duration": 1.53699,
     "end_time": "2023-05-03T15:32:12.737393",
     "exception": false,
     "start_time": "2023-05-03T15:32:11.200403",
     "status": "completed"
    },
    "tags": []
   },
   "outputs": [],
   "source": [
    "grid_predictions_ros=grid_ros.predict(x_test_ros)"
   ]
  },
  {
   "cell_type": "code",
   "execution_count": 58,
   "id": "df6dadb0",
   "metadata": {
    "execution": {
     "iopub.execute_input": "2023-05-03T15:32:12.789092Z",
     "iopub.status.busy": "2023-05-03T15:32:12.787950Z",
     "iopub.status.idle": "2023-05-03T15:32:12.796703Z",
     "shell.execute_reply": "2023-05-03T15:32:12.795675Z"
    },
    "papermill": {
     "duration": 0.036489,
     "end_time": "2023-05-03T15:32:12.799111",
     "exception": false,
     "start_time": "2023-05-03T15:32:12.762622",
     "status": "completed"
    },
    "tags": []
   },
   "outputs": [
    {
     "data": {
      "text/plain": [
       "array([[1682,  274],\n",
       "       [  54, 1972]])"
      ]
     },
     "execution_count": 58,
     "metadata": {},
     "output_type": "execute_result"
    }
   ],
   "source": [
    "confusion_matrix(y_test_ros,grid_predictions_ros)"
   ]
  },
  {
   "cell_type": "code",
   "execution_count": 59,
   "id": "2cf07982",
   "metadata": {
    "execution": {
     "iopub.execute_input": "2023-05-03T15:32:12.850038Z",
     "iopub.status.busy": "2023-05-03T15:32:12.849619Z",
     "iopub.status.idle": "2023-05-03T15:32:12.866113Z",
     "shell.execute_reply": "2023-05-03T15:32:12.864693Z"
    },
    "papermill": {
     "duration": 0.045547,
     "end_time": "2023-05-03T15:32:12.869617",
     "exception": false,
     "start_time": "2023-05-03T15:32:12.824070",
     "status": "completed"
    },
    "tags": []
   },
   "outputs": [
    {
     "name": "stdout",
     "output_type": "stream",
     "text": [
      "              precision    recall  f1-score   support\n",
      "\n",
      "           0       0.97      0.86      0.91      1956\n",
      "           1       0.88      0.97      0.92      2026\n",
      "\n",
      "    accuracy                           0.92      3982\n",
      "   macro avg       0.92      0.92      0.92      3982\n",
      "weighted avg       0.92      0.92      0.92      3982\n",
      "\n"
     ]
    }
   ],
   "source": [
    "print(classification_report(y_test_ros,grid_predictions_ros))"
   ]
  },
  {
   "cell_type": "code",
   "execution_count": null,
   "id": "b10e06b2",
   "metadata": {
    "papermill": {
     "duration": 0.0239,
     "end_time": "2023-05-03T15:32:12.919682",
     "exception": false,
     "start_time": "2023-05-03T15:32:12.895782",
     "status": "completed"
    },
    "tags": []
   },
   "outputs": [],
   "source": []
  }
 ],
 "metadata": {
  "kernelspec": {
   "display_name": "Python 3",
   "language": "python",
   "name": "python3"
  },
  "language_info": {
   "codemirror_mode": {
    "name": "ipython",
    "version": 3
   },
   "file_extension": ".py",
   "mimetype": "text/x-python",
   "name": "python",
   "nbconvert_exporter": "python",
   "pygments_lexer": "ipython3",
   "version": "3.7.12"
  },
  "papermill": {
   "default_parameters": {},
   "duration": 136.259635,
   "end_time": "2023-05-03T15:32:13.665904",
   "environment_variables": {},
   "exception": null,
   "input_path": "__notebook__.ipynb",
   "output_path": "__notebook__.ipynb",
   "parameters": {},
   "start_time": "2023-05-03T15:29:57.406269",
   "version": "2.4.0"
  }
 },
 "nbformat": 4,
 "nbformat_minor": 5
}
